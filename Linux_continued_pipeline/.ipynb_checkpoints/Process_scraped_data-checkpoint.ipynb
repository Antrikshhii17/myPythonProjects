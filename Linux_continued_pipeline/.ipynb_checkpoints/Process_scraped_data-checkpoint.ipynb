{
 "cells": [
  {
   "cell_type": "code",
   "execution_count": 1,
   "metadata": {},
   "outputs": [],
   "source": [
    "# Import the SparkSession\n",
    "\n",
    "from pyspark.sql import SparkSession\n",
    "from pyspark import SparkContext, SparkConf\n",
    "from pyspark.sql.types import StructField, StructType\n",
    "import pyspark.sql.functions as F"
   ]
  },
  {
   "cell_type": "code",
   "execution_count": 2,
   "metadata": {},
   "outputs": [],
   "source": [
    "# Create spark context object\n",
    "\n",
    "conf = SparkConf().setAppName('Reading textfile')\n",
    "sc = SparkContext(conf=conf).getOrCreate()"
   ]
  },
  {
   "cell_type": "code",
   "execution_count": 3,
   "metadata": {},
   "outputs": [],
   "source": [
    "# Assign the file to a variable\n",
    "\n",
    "file = r'C:\\Users\\antriksh.chourasia\\Documents\\parsed3.txt'"
   ]
  },
  {
   "cell_type": "code",
   "execution_count": 4,
   "metadata": {},
   "outputs": [],
   "source": [
    "# Read the file into RDD\n",
    "\n",
    "rdd1 = sc.textFile(file)"
   ]
  },
  {
   "cell_type": "code",
   "execution_count": 7,
   "metadata": {},
   "outputs": [
    {
     "name": "stdout",
     "output_type": "stream",
     "text": [
      "['S.No.', '', '\\t\\t\\t\\tName of the Organisation', '', '\\t\\t\\t\\tWebsite', '', '\\t\\t\\t\\t1', '', '\\t\\t\\t\\tIndian Institute of Technology (IIT), Gandhi Nagar', '', '\\t\\t\\t\\thttp://www.iitgn.ac.in/', '', '\\t\\t\\t\\t2', '', '\\t\\t\\t\\tIndian Institute of Technology (IIT), Bhubaneshwar', '', '\\t\\t\\t\\thttp://www.iitbbs.ac.in/', '', '\\t\\t\\t\\t3', '', '\\t\\t\\t\\tIndian Institute of Technology (IIT), Madras', '', '\\t\\t\\t\\thttp://www.iitm.ac.in/', '', '\\t\\t\\t\\t4', '', '\\t\\t\\t\\tIndian Institute of Technology (IIT), Guwahati', '', '\\t\\t\\t\\thttp://www.iitg.ernet.in/', '', '\\t\\t\\t\\t5', '', '\\t\\t\\t\\tIndian Institute of Technology (IIT), Indore', '', '\\t\\t\\t\\thttp://www.iiti.ac.in/', '', '\\t\\t\\t\\t6', '', '\\t\\t\\t\\tIndian Institute of Technology (IIT), Kanpur', '', '\\t\\t\\t\\thttp://www.iitk.ac.in/', '', '\\t\\t\\t\\t7', 'Indian Institute of Technology (IIT), Jodhpur', '-', '', '\\t\\t\\t\\t8', '', '\\t\\t\\t\\tIndian Institute of Technology (IIT), Kharagpur\\xa0', '', '\\t\\t\\t\\thttp://www.iitkgp.ac.in/ ', '', '\\t\\t\\t\\t9', '', '\\t\\t\\t\\tIndian Institute of Technology (IIT), Hyderabad', '', '\\t\\t\\t\\thttp://www.iith.ac.in', '', '\\t\\t\\t\\t10', '', '\\t\\t\\t\\tIndian Institute of Technology (IIT), Mumbai\\xa0', '', '\\t\\t\\t\\thttp://www.iitb.ac.in/', '', '\\t\\t\\t\\t11', '', '\\t\\t\\t\\tIndian Institute of Technology (IIT), Patna', '', '\\t\\t\\t\\thttp://www.iitp.ac.in/', '', '\\t\\t\\t\\t12', '', '\\t\\t\\t\\tIndian Institute of Technology (IIT), Delhi', '', '\\t\\t\\t\\thttp://www.iitd.ac.in/ ', '', '\\t\\t\\t\\t13', '', '\\t\\t\\t\\tIndian Institute of Technology (IIT), Ropar', '', '\\t\\t\\t\\thttp://www.iitrpr.ac.in/', '', '\\t\\t\\t\\t14', '', '\\t\\t\\t\\tIndian Institute of Technology (IIT), Mandi', '', '\\t\\t\\t\\thttp://www.iitmandi.ac.in/', '', '\\t\\t\\t\\t15', '', '\\t\\t\\t\\tIndian Institute of Technology (IIT), Roorkee', '', '\\t\\t\\t\\thttps://www.iitr.ac.in', '', '\\t\\t\\t\\t16', '', '\\t\\t\\t\\tIndian Institute of Technology (Banaras Hindu University), Varanasi', '', '\\t\\t\\t\\thttp://iitbhu.ac.in ', '', '\\t\\t\\t\\t17', '', '\\t\\t\\t\\tIndian Institute of Technology (IIT), Jammu', '', '\\t\\t\\t\\thttp://iitjammu.ac.in', '', '\\t\\t\\t\\t18', '', '\\t\\t\\t\\tIndian Institute of Technology (IIT), Palakkad', '', '\\t\\t\\t\\thttp://iitpkd.ac.in', '', '\\t\\t\\t\\t19', '', '\\t\\t\\t\\tIndian Institute of Technology (IIT), Tirupati', '', '\\t\\t\\t\\thttp://iittp.ac.in/ ', '', '\\t\\t\\t\\t20', '', '\\t\\t\\t\\tIndian Institute of Technology (IIT), Goa', '', '\\t\\t\\t\\thttp://www.iitgoa.ac.in', '', '\\t\\t\\t\\t21', '', '\\t\\t\\t\\tIndian Institute of Technology (IIT), Bhilai', '', '\\t\\t\\t\\thttps://www.iitbhilai.ac.in/ ', '', '\\t\\t\\t\\t22', '', '\\t\\t\\t\\tIndian Institute of Technology (IIT) Dharwad', '', '\\t\\t\\t\\thttp://www.iitdh.ac.in/ ', '', '\\t\\t\\t\\t23', '', '\\t\\t\\t\\tIndian Institute of Technology (Indian School of Mines), Dhanbad', '', '\\t\\t\\t\\thttp://iitism.ac.in/']\n"
     ]
    }
   ],
   "source": [
    "# Displaying the RDD content\n",
    "\n",
    "print(rdd1.collect())"
   ]
  },
  {
   "cell_type": "code",
   "execution_count": 8,
   "metadata": {
    "scrolled": true
   },
   "outputs": [],
   "source": [
    "# Removing tab characters from all the columns\n",
    "\n",
    "rdd2 = rdd1.map(lambda x: x.replace('\\t', ''))"
   ]
  },
  {
   "cell_type": "code",
   "execution_count": null,
   "metadata": {},
   "outputs": [],
   "source": []
  }
 ],
 "metadata": {
  "kernelspec": {
   "display_name": "mflix",
   "language": "python",
   "name": "mflix"
  },
  "language_info": {
   "codemirror_mode": {
    "name": "ipython",
    "version": 3
   },
   "file_extension": ".py",
   "mimetype": "text/x-python",
   "name": "python",
   "nbconvert_exporter": "python",
   "pygments_lexer": "ipython3",
   "version": "3.8.0"
  }
 },
 "nbformat": 4,
 "nbformat_minor": 2
}
