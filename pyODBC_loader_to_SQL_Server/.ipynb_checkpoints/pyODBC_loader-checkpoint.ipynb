{
 "cells": [
  {
   "cell_type": "code",
   "execution_count": 89,
   "metadata": {},
   "outputs": [],
   "source": [
    "import pyodbc\n",
    "import pandas as pd"
   ]
  },
  {
   "cell_type": "code",
   "execution_count": 143,
   "metadata": {},
   "outputs": [],
   "source": [
    "# Read the file into a variable\n",
    "\n",
    "filename = r'C:\\Users\\antriksh.chourasia\\PycharmProjects\\pyODBC_loader\\View IT Bid Floors.csv'"
   ]
  },
  {
   "cell_type": "code",
   "execution_count": 144,
   "metadata": {},
   "outputs": [],
   "source": [
    "# Read the file into a pandas dataframe | Some special characters were causing problem, so I used 'unicode_escape'\n",
    "\n",
    "df = pd.read_csv(filename,encoding='unicode_escape')"
   ]
  },
  {
   "cell_type": "code",
   "execution_count": 145,
   "metadata": {},
   "outputs": [],
   "source": [
    "# Define column headers\n",
    "\n",
    "df1 = pd.DataFrame(df,columns=['Receipt_Location','Delivery_Location','Cycle','Start_Gas_Day','End_Gas_Day','Daily_Equivalent_FT','Load_Factor','Bid_Floor'])"
   ]
  },
  {
   "cell_type": "code",
   "execution_count": 213,
   "metadata": {},
   "outputs": [
    {
     "data": {
      "text/html": [
       "<div>\n",
       "<style scoped>\n",
       "    .dataframe tbody tr th:only-of-type {\n",
       "        vertical-align: middle;\n",
       "    }\n",
       "\n",
       "    .dataframe tbody tr th {\n",
       "        vertical-align: top;\n",
       "    }\n",
       "\n",
       "    .dataframe thead th {\n",
       "        text-align: right;\n",
       "    }\n",
       "</style>\n",
       "<table border=\"1\" class=\"dataframe\">\n",
       "  <thead>\n",
       "    <tr style=\"text-align: right;\">\n",
       "      <th></th>\n",
       "      <th>Receipt_Location</th>\n",
       "      <th>Delivery_Location</th>\n",
       "      <th>Cycle</th>\n",
       "      <th>Start_Gas_Day</th>\n",
       "      <th>End_Gas_Day</th>\n",
       "      <th>Daily_Equivalent_FT</th>\n",
       "      <th>Load_Factor</th>\n",
       "      <th>Bid_Floor</th>\n",
       "    </tr>\n",
       "  </thead>\n",
       "  <tbody>\n",
       "    <tr>\n",
       "      <th>0</th>\n",
       "      <td>Bayhurst 1</td>\n",
       "      <td>Centram MDA</td>\n",
       "      <td>Timely</td>\n",
       "      <td>2020-11-01</td>\n",
       "      <td>9999-12-31</td>\n",
       "      <td>0.4528</td>\n",
       "      <td>295</td>\n",
       "      <td>1.3358</td>\n",
       "    </tr>\n",
       "    <tr>\n",
       "      <th>1</th>\n",
       "      <td>Bayhurst 1</td>\n",
       "      <td>Centram SSDA</td>\n",
       "      <td>Timely</td>\n",
       "      <td>2020-11-01</td>\n",
       "      <td>9999-12-31</td>\n",
       "      <td>0.3328</td>\n",
       "      <td>295</td>\n",
       "      <td>0.9818</td>\n",
       "    </tr>\n",
       "    <tr>\n",
       "      <th>2</th>\n",
       "      <td>Bayhurst 1</td>\n",
       "      <td>Centrat MDA</td>\n",
       "      <td>Timely</td>\n",
       "      <td>2020-11-01</td>\n",
       "      <td>9999-12-31</td>\n",
       "      <td>0.5065</td>\n",
       "      <td>295</td>\n",
       "      <td>1.4942</td>\n",
       "    </tr>\n",
       "    <tr>\n",
       "      <th>3</th>\n",
       "      <td>Bayhurst 1</td>\n",
       "      <td>Chippawa</td>\n",
       "      <td>Timely</td>\n",
       "      <td>2020-11-01</td>\n",
       "      <td>9999-12-31</td>\n",
       "      <td>1.3693</td>\n",
       "      <td>295</td>\n",
       "      <td>4.0394</td>\n",
       "    </tr>\n",
       "    <tr>\n",
       "      <th>4</th>\n",
       "      <td>Bayhurst 1</td>\n",
       "      <td>Cornwall</td>\n",
       "      <td>Timely</td>\n",
       "      <td>2020-11-01</td>\n",
       "      <td>9999-12-31</td>\n",
       "      <td>1.4275</td>\n",
       "      <td>295</td>\n",
       "      <td>4.2111</td>\n",
       "    </tr>\n",
       "    <tr>\n",
       "      <th>...</th>\n",
       "      <td>...</td>\n",
       "      <td>...</td>\n",
       "      <td>...</td>\n",
       "      <td>...</td>\n",
       "      <td>...</td>\n",
       "      <td>...</td>\n",
       "      <td>...</td>\n",
       "      <td>...</td>\n",
       "    </tr>\n",
       "    <tr>\n",
       "      <th>1989</th>\n",
       "      <td>Whitewood Receipt</td>\n",
       "      <td>Union Parkway Belt</td>\n",
       "      <td>Timely</td>\n",
       "      <td>2020-11-01</td>\n",
       "      <td>9999-12-31</td>\n",
       "      <td>1.1003</td>\n",
       "      <td>295</td>\n",
       "      <td>3.2459</td>\n",
       "    </tr>\n",
       "    <tr>\n",
       "      <th>1990</th>\n",
       "      <td>Whitewood Receipt</td>\n",
       "      <td>Union SSMDA</td>\n",
       "      <td>Timely</td>\n",
       "      <td>2020-11-01</td>\n",
       "      <td>9999-12-31</td>\n",
       "      <td>0.7921</td>\n",
       "      <td>295</td>\n",
       "      <td>2.3367</td>\n",
       "    </tr>\n",
       "    <tr>\n",
       "      <th>1991</th>\n",
       "      <td>Whitewood Receipt</td>\n",
       "      <td>Union SWDA</td>\n",
       "      <td>Timely</td>\n",
       "      <td>2020-11-01</td>\n",
       "      <td>9999-12-31</td>\n",
       "      <td>0.9969</td>\n",
       "      <td>295</td>\n",
       "      <td>2.9409</td>\n",
       "    </tr>\n",
       "    <tr>\n",
       "      <th>1992</th>\n",
       "      <td>Whitewood Receipt</td>\n",
       "      <td>Union WDA</td>\n",
       "      <td>Timely</td>\n",
       "      <td>2020-11-01</td>\n",
       "      <td>9999-12-31</td>\n",
       "      <td>0.4980</td>\n",
       "      <td>295</td>\n",
       "      <td>1.4691</td>\n",
       "    </tr>\n",
       "    <tr>\n",
       "      <th>1993</th>\n",
       "      <td>Whitewood Receipt</td>\n",
       "      <td>Welwyn</td>\n",
       "      <td>Timely</td>\n",
       "      <td>2020-11-01</td>\n",
       "      <td>9999-12-31</td>\n",
       "      <td>0.0998</td>\n",
       "      <td>295</td>\n",
       "      <td>0.2944</td>\n",
       "    </tr>\n",
       "  </tbody>\n",
       "</table>\n",
       "<p>1994 rows × 8 columns</p>\n",
       "</div>"
      ],
      "text/plain": [
       "       Receipt_Location   Delivery_Location   Cycle Start_Gas_Day End_Gas_Day  \\\n",
       "0            Bayhurst 1         Centram MDA  Timely    2020-11-01  9999-12-31   \n",
       "1            Bayhurst 1        Centram SSDA  Timely    2020-11-01  9999-12-31   \n",
       "2            Bayhurst 1         Centrat MDA  Timely    2020-11-01  9999-12-31   \n",
       "3            Bayhurst 1            Chippawa  Timely    2020-11-01  9999-12-31   \n",
       "4            Bayhurst 1            Cornwall  Timely    2020-11-01  9999-12-31   \n",
       "...                 ...                 ...     ...           ...         ...   \n",
       "1989  Whitewood Receipt  Union Parkway Belt  Timely    2020-11-01  9999-12-31   \n",
       "1990  Whitewood Receipt         Union SSMDA  Timely    2020-11-01  9999-12-31   \n",
       "1991  Whitewood Receipt          Union SWDA  Timely    2020-11-01  9999-12-31   \n",
       "1992  Whitewood Receipt           Union WDA  Timely    2020-11-01  9999-12-31   \n",
       "1993  Whitewood Receipt              Welwyn  Timely    2020-11-01  9999-12-31   \n",
       "\n",
       "      Daily_Equivalent_FT  Load_Factor  Bid_Floor  \n",
       "0                  0.4528          295     1.3358  \n",
       "1                  0.3328          295     0.9818  \n",
       "2                  0.5065          295     1.4942  \n",
       "3                  1.3693          295     4.0394  \n",
       "4                  1.4275          295     4.2111  \n",
       "...                   ...          ...        ...  \n",
       "1989               1.1003          295     3.2459  \n",
       "1990               0.7921          295     2.3367  \n",
       "1991               0.9969          295     2.9409  \n",
       "1992               0.4980          295     1.4691  \n",
       "1993               0.0998          295     0.2944  \n",
       "\n",
       "[1994 rows x 8 columns]"
      ]
     },
     "execution_count": 213,
     "metadata": {},
     "output_type": "execute_result"
    }
   ],
   "source": [
    "# Verify the contents of the dataframe\n",
    "\n",
    "df1"
   ]
  },
  {
   "cell_type": "code",
   "execution_count": 230,
   "metadata": {},
   "outputs": [],
   "source": [
    "# Create a pyodbc connection\n",
    "# If using SQL Server authentication, replace the argument 'trusted_connection' with 'UID' and 'PWD'\n",
    "\n",
    "conn = pyodbc.connect(\n",
    "    \"\"\"Driver={SQL Server Native Client 11.0};\n",
    "    Server=BLR-ANTRIX;\n",
    "    Database=NORTHWND;\n",
    "    trusted_connection=yes;\"\"\"\n",
    ")"
   ]
  },
  {
   "cell_type": "code",
   "execution_count": 231,
   "metadata": {},
   "outputs": [],
   "source": [
    "# USE CASE(1): Using 'cursor.fast_executemany' for big files\n",
    "# Lets initiate the cursor\n",
    "\n",
    "cursor = conn.cursor()\n",
    "cursor.fast_executemany = True"
   ]
  },
  {
   "cell_type": "code",
   "execution_count": 232,
   "metadata": {},
   "outputs": [],
   "source": [
    "# SQL Insert statement\n",
    "\n",
    "sql = \"\"\"INSERT INTO Stage1(\n",
    "Receipt_Location,Delivery_Location,Cycle,Start_Gas_Day,End_Gas_Day,Daily_Equivalent_FT,Load_Factor,Bid_Floor)\n",
    "VALUES(?,?,?,?,?,?,?,?)\"\"\""
   ]
  },
  {
   "cell_type": "code",
   "execution_count": null,
   "metadata": {},
   "outputs": [],
   "source": [
    "# Getting each columns ready to be supplied and storing them in a variable 'params'\n",
    "# Converting dataframe to list of tuples\n",
    "\n",
    "params = list(tuple(row) for row in df1.values)"
   ]
  },
  {
   "cell_type": "code",
   "execution_count": null,
   "metadata": {},
   "outputs": [],
   "source": [
    "# Writing data to database with try-catch block\n",
    "\n",
    "try:\n",
    "    for row in df1.itertuples():    \n",
    "        cursor.executemany(sql,params)\n",
    "    conn.commit()\n",
    "    print('****************Data successfully loaded to the database!***************')\n",
    "except:\n",
    "    conn.rollback()\n",
    "    print('Error! please check your code.')\n",
    "conn.close()"
   ]
  },
  {
   "cell_type": "code",
   "execution_count": null,
   "metadata": {},
   "outputs": [],
   "source": [
    "# USE CASE(2): Using 'cursor.execute' for small files\n",
    "# Lets initiate the cursor\n",
    "\n",
    "cursor = conn.cursor()"
   ]
  },
  {
   "cell_type": "code",
   "execution_count": null,
   "metadata": {},
   "outputs": [],
   "source": [
    "# SQL Insert statement\n",
    "\n",
    "sql = \"\"\"INSERT INTO Stage1(\n",
    "Receipt_Location,Delivery_Location,Cycle,Start_Gas_Day,End_Gas_Day,Daily_Equivalent_FT,Load_Factor,Bid_Floor)\n",
    "VALUES(?,?,?,?,?,?,?,?)\"\"\""
   ]
  },
  {
   "cell_type": "code",
   "execution_count": 233,
   "metadata": {},
   "outputs": [
    {
     "name": "stdout",
     "output_type": "stream",
     "text": [
      "Data successfully loaded to the database!\n"
     ]
    }
   ],
   "source": [
    "# Writing data to database with try-catch block\n",
    "# Please note that we can explicitly supply the rows as arguments here which cannot \\\n",
    "# be done by 'cursor.executemany()' since it accepts exactly two arguments.\n",
    "\n",
    "try:\n",
    "    for row in df1.itertuples():    \n",
    "        cursor.execute(sql,row.Receipt_Location,\n",
    "                           row.Delivery_Location,\n",
    "                           row.Cycle,\n",
    "                           row.Start_Gas_Day,\n",
    "                           row.End_Gas_Day,\n",
    "                           row.Daily_Equivalent_FT,\n",
    "                           row.Load_Factor,\n",
    "                           row.Bid_Floor)\n",
    "    conn.commit()\n",
    "    print('****************Data successfully loaded to the database!***************')\n",
    "except:\n",
    "    conn.rollback()\n",
    "    print('Error! please check your code.')\n",
    "conn.close()"
   ]
  },
  {
   "cell_type": "code",
   "execution_count": null,
   "metadata": {},
   "outputs": [],
   "source": []
  }
 ],
 "metadata": {
  "kernelspec": {
   "display_name": "mflix",
   "language": "python",
   "name": "mflix"
  },
  "language_info": {
   "codemirror_mode": {
    "name": "ipython",
    "version": 3
   },
   "file_extension": ".py",
   "mimetype": "text/x-python",
   "name": "python",
   "nbconvert_exporter": "python",
   "pygments_lexer": "ipython3",
   "version": "3.8.0"
  }
 },
 "nbformat": 4,
 "nbformat_minor": 2
}
