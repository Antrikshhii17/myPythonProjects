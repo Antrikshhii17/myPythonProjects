{
 "cells": [
  {
   "cell_type": "code",
   "execution_count": 1,
   "metadata": {},
   "outputs": [],
   "source": [
    "# Importing our libraries\n",
    "\n",
    "import numpy as np\n",
    "from pyspark.sql import SparkSession\n",
    "from pyspark.sql import functions as fn\n",
    "from pyspark.sql.types import *"
   ]
  },
  {
   "cell_type": "code",
   "execution_count": 2,
   "metadata": {},
   "outputs": [],
   "source": [
    "# Creating SparkSession\n",
    "\n",
    "ss = SparkSession.builder.appName('loadCSV').getOrCreate()"
   ]
  },
  {
   "cell_type": "code",
   "execution_count": 3,
   "metadata": {},
   "outputs": [],
   "source": [
    "# Reading the CSV file into spark dataframe\n",
    "\n",
    "sparkDF = ss.read.csv('rangel.csv', header=True)"
   ]
  },
  {
   "cell_type": "code",
   "execution_count": 4,
   "metadata": {},
   "outputs": [
    {
     "data": {
      "text/plain": [
       "2580185"
      ]
     },
     "execution_count": 4,
     "metadata": {},
     "output_type": "execute_result"
    }
   ],
   "source": [
    "# Total row count of the spark dataframe\n",
    "\n",
    "sparkDF.count()"
   ]
  },
  {
   "cell_type": "code",
   "execution_count": 6,
   "metadata": {},
   "outputs": [
    {
     "name": "stdout",
     "output_type": "stream",
     "text": [
      "+----------+------------------+----------------------------------------------------------+-----------------------------------------------------------------+--------------------------------------+--------+----------+----------+-----+\n",
      "|Date      |value             |Model Code                                                |Desc                                                             |range                                 |quotecal|endrange  |startrange|check|\n",
      "+----------+------------------+----------------------------------------------------------+-----------------------------------------------------------------+--------------------------------------+--------+----------+----------+-----+\n",
      "|2016-06-06|27.09951219512195 |model://ICENLFINREL/EU.EL.NL.ICE.FIN.OP.FUT.M10/SETTLE/ALL|ICE Dutch Power Financial Offpeak Futures - Dutch Grid - Month 10|range://DB:1/END/06-06-2016/10-09-2019|HICEEDX |2019-10-09|2016-06-06|True |\n",
      "|2016-06-07|27.120975609756094|model://ICENLFINREL/EU.EL.NL.ICE.FIN.OP.FUT.M10/SETTLE/ALL|ICE Dutch Power Financial Offpeak Futures - Dutch Grid - Month 10|range://DB:1/END/06-06-2016/10-09-2019|HICEEDX |2019-10-09|2016-06-06|True |\n",
      "|2016-06-08|27.25317073170732 |model://ICENLFINREL/EU.EL.NL.ICE.FIN.OP.FUT.M10/SETTLE/ALL|ICE Dutch Power Financial Offpeak Futures - Dutch Grid - Month 10|range://DB:1/END/06-06-2016/10-09-2019|HICEEDX |2019-10-09|2016-06-06|True |\n",
      "|2016-06-09|27.020487804878048|model://ICENLFINREL/EU.EL.NL.ICE.FIN.OP.FUT.M10/SETTLE/ALL|ICE Dutch Power Financial Offpeak Futures - Dutch Grid - Month 10|range://DB:1/END/06-06-2016/10-09-2019|HICEEDX |2019-10-09|2016-06-06|True |\n",
      "|2016-06-10|27.035853658536592|model://ICENLFINREL/EU.EL.NL.ICE.FIN.OP.FUT.M10/SETTLE/ALL|ICE Dutch Power Financial Offpeak Futures - Dutch Grid - Month 10|range://DB:1/END/06-06-2016/10-09-2019|HICEEDX |2019-10-09|2016-06-06|True |\n",
      "|2016-06-13|26.62878048780488 |model://ICENLFINREL/EU.EL.NL.ICE.FIN.OP.FUT.M10/SETTLE/ALL|ICE Dutch Power Financial Offpeak Futures - Dutch Grid - Month 10|range://DB:1/END/06-06-2016/10-09-2019|HICEEDX |2019-10-09|2016-06-06|True |\n",
      "|2016-06-14|26.723170731707317|model://ICENLFINREL/EU.EL.NL.ICE.FIN.OP.FUT.M10/SETTLE/ALL|ICE Dutch Power Financial Offpeak Futures - Dutch Grid - Month 10|range://DB:1/END/06-06-2016/10-09-2019|HICEEDX |2019-10-09|2016-06-06|True |\n",
      "|2016-06-15|27.21878048780488 |model://ICENLFINREL/EU.EL.NL.ICE.FIN.OP.FUT.M10/SETTLE/ALL|ICE Dutch Power Financial Offpeak Futures - Dutch Grid - Month 10|range://DB:1/END/06-06-2016/10-09-2019|HICEEDX |2019-10-09|2016-06-06|True |\n",
      "|2016-06-16|27.675853658536585|model://ICENLFINREL/EU.EL.NL.ICE.FIN.OP.FUT.M10/SETTLE/ALL|ICE Dutch Power Financial Offpeak Futures - Dutch Grid - Month 10|range://DB:1/END/06-06-2016/10-09-2019|HICEEDX |2019-10-09|2016-06-06|True |\n",
      "|2016-06-17|28.240975609756088|model://ICENLFINREL/EU.EL.NL.ICE.FIN.OP.FUT.M10/SETTLE/ALL|ICE Dutch Power Financial Offpeak Futures - Dutch Grid - Month 10|range://DB:1/END/06-06-2016/10-09-2019|HICEEDX |2019-10-09|2016-06-06|True |\n",
      "|2016-06-20|29.290975609756106|model://ICENLFINREL/EU.EL.NL.ICE.FIN.OP.FUT.M10/SETTLE/ALL|ICE Dutch Power Financial Offpeak Futures - Dutch Grid - Month 10|range://DB:1/END/06-06-2016/10-09-2019|HICEEDX |2019-10-09|2016-06-06|True |\n",
      "|2016-06-21|29.133902439024386|model://ICENLFINREL/EU.EL.NL.ICE.FIN.OP.FUT.M10/SETTLE/ALL|ICE Dutch Power Financial Offpeak Futures - Dutch Grid - Month 10|range://DB:1/END/06-06-2016/10-09-2019|HICEEDX |2019-10-09|2016-06-06|True |\n",
      "|2016-06-22|29.3219512195122  |model://ICENLFINREL/EU.EL.NL.ICE.FIN.OP.FUT.M10/SETTLE/ALL|ICE Dutch Power Financial Offpeak Futures - Dutch Grid - Month 10|range://DB:1/END/06-06-2016/10-09-2019|HICEEDX |2019-10-09|2016-06-06|True |\n",
      "|2016-06-23|29.69121951219513 |model://ICENLFINREL/EU.EL.NL.ICE.FIN.OP.FUT.M10/SETTLE/ALL|ICE Dutch Power Financial Offpeak Futures - Dutch Grid - Month 10|range://DB:1/END/06-06-2016/10-09-2019|HICEEDX |2019-10-09|2016-06-06|True |\n",
      "|2016-06-24|29.712926829268287|model://ICENLFINREL/EU.EL.NL.ICE.FIN.OP.FUT.M10/SETTLE/ALL|ICE Dutch Power Financial Offpeak Futures - Dutch Grid - Month 10|range://DB:1/END/06-06-2016/10-09-2019|HICEEDX |2019-10-09|2016-06-06|True |\n",
      "|2016-06-27|28.464634146341467|model://ICENLFINREL/EU.EL.NL.ICE.FIN.OP.FUT.M10/SETTLE/ALL|ICE Dutch Power Financial Offpeak Futures - Dutch Grid - Month 10|range://DB:1/END/06-06-2016/10-09-2019|HICEEDX |2019-10-09|2016-06-06|True |\n",
      "|2016-06-28|28.47365853658537 |model://ICENLFINREL/EU.EL.NL.ICE.FIN.OP.FUT.M10/SETTLE/ALL|ICE Dutch Power Financial Offpeak Futures - Dutch Grid - Month 10|range://DB:1/END/06-06-2016/10-09-2019|HICEEDX |2019-10-09|2016-06-06|True |\n",
      "|2016-06-29|28.35439024390244 |model://ICENLFINREL/EU.EL.NL.ICE.FIN.OP.FUT.M10/SETTLE/ALL|ICE Dutch Power Financial Offpeak Futures - Dutch Grid - Month 10|range://DB:1/END/06-06-2016/10-09-2019|HICEEDX |2019-10-09|2016-06-06|True |\n",
      "|2016-06-30|26.90820512820513 |model://ICENLFINREL/EU.EL.NL.ICE.FIN.OP.FUT.M10/SETTLE/ALL|ICE Dutch Power Financial Offpeak Futures - Dutch Grid - Month 10|range://DB:1/END/06-06-2016/10-09-2019|HICEEDX |2019-10-09|2016-06-06|True |\n",
      "|2016-07-01|27.23             |model://ICENLFINREL/EU.EL.NL.ICE.FIN.OP.FUT.M10/SETTLE/ALL|ICE Dutch Power Financial Offpeak Futures - Dutch Grid - Month 10|range://DB:1/END/06-06-2016/10-09-2019|HICEEDX |2019-10-09|2016-06-06|True |\n",
      "+----------+------------------+----------------------------------------------------------+-----------------------------------------------------------------+--------------------------------------+--------+----------+----------+-----+\n",
      "only showing top 20 rows\n",
      "\n"
     ]
    }
   ],
   "source": [
    "sparkDF.show(20, False)"
   ]
  },
  {
   "cell_type": "code",
   "execution_count": 7,
   "metadata": {},
   "outputs": [
    {
     "name": "stdout",
     "output_type": "stream",
     "text": [
      "root\n",
      " |-- Date: string (nullable = true)\n",
      " |-- value: string (nullable = true)\n",
      " |-- Model Code: string (nullable = true)\n",
      " |-- Desc: string (nullable = true)\n",
      " |-- range: string (nullable = true)\n",
      " |-- quotecal: string (nullable = true)\n",
      " |-- endrange: string (nullable = true)\n",
      " |-- startrange: string (nullable = true)\n",
      " |-- check: string (nullable = true)\n",
      "\n"
     ]
    }
   ],
   "source": [
    "# Printing schema of the spark dataframe\n",
    "\n",
    "sparkDF.printSchema()"
   ]
  },
  {
   "cell_type": "code",
   "execution_count": 8,
   "metadata": {},
   "outputs": [
    {
     "name": "stdout",
     "output_type": "stream",
     "text": [
      "+----------+-----+----------------------------------------------------------+-----------------------------------------------------------------+--------------------------------------+--------+----------+----------+-----+\n",
      "|Date      |value|Model Code                                                |Desc                                                             |range                                 |quotecal|endrange  |startrange|check|\n",
      "+----------+-----+----------------------------------------------------------+-----------------------------------------------------------------+--------------------------------------+--------+----------+----------+-----+\n",
      "|2016-06-06|27.1 |model://ICENLFINREL/EU.EL.NL.ICE.FIN.OP.FUT.M10/SETTLE/ALL|ICE Dutch Power Financial Offpeak Futures - Dutch Grid - Month 10|range://DB:1/END/06-06-2016/10-09-2019|HICEEDX |2019-10-09|2016-06-06|True |\n",
      "|2016-06-07|27.12|model://ICENLFINREL/EU.EL.NL.ICE.FIN.OP.FUT.M10/SETTLE/ALL|ICE Dutch Power Financial Offpeak Futures - Dutch Grid - Month 10|range://DB:1/END/06-06-2016/10-09-2019|HICEEDX |2019-10-09|2016-06-06|True |\n",
      "|2016-06-08|27.25|model://ICENLFINREL/EU.EL.NL.ICE.FIN.OP.FUT.M10/SETTLE/ALL|ICE Dutch Power Financial Offpeak Futures - Dutch Grid - Month 10|range://DB:1/END/06-06-2016/10-09-2019|HICEEDX |2019-10-09|2016-06-06|True |\n",
      "|2016-06-09|27.02|model://ICENLFINREL/EU.EL.NL.ICE.FIN.OP.FUT.M10/SETTLE/ALL|ICE Dutch Power Financial Offpeak Futures - Dutch Grid - Month 10|range://DB:1/END/06-06-2016/10-09-2019|HICEEDX |2019-10-09|2016-06-06|True |\n",
      "|2016-06-10|27.04|model://ICENLFINREL/EU.EL.NL.ICE.FIN.OP.FUT.M10/SETTLE/ALL|ICE Dutch Power Financial Offpeak Futures - Dutch Grid - Month 10|range://DB:1/END/06-06-2016/10-09-2019|HICEEDX |2019-10-09|2016-06-06|True |\n",
      "|2016-06-13|26.63|model://ICENLFINREL/EU.EL.NL.ICE.FIN.OP.FUT.M10/SETTLE/ALL|ICE Dutch Power Financial Offpeak Futures - Dutch Grid - Month 10|range://DB:1/END/06-06-2016/10-09-2019|HICEEDX |2019-10-09|2016-06-06|True |\n",
      "|2016-06-14|26.72|model://ICENLFINREL/EU.EL.NL.ICE.FIN.OP.FUT.M10/SETTLE/ALL|ICE Dutch Power Financial Offpeak Futures - Dutch Grid - Month 10|range://DB:1/END/06-06-2016/10-09-2019|HICEEDX |2019-10-09|2016-06-06|True |\n",
      "|2016-06-15|27.22|model://ICENLFINREL/EU.EL.NL.ICE.FIN.OP.FUT.M10/SETTLE/ALL|ICE Dutch Power Financial Offpeak Futures - Dutch Grid - Month 10|range://DB:1/END/06-06-2016/10-09-2019|HICEEDX |2019-10-09|2016-06-06|True |\n",
      "|2016-06-16|27.68|model://ICENLFINREL/EU.EL.NL.ICE.FIN.OP.FUT.M10/SETTLE/ALL|ICE Dutch Power Financial Offpeak Futures - Dutch Grid - Month 10|range://DB:1/END/06-06-2016/10-09-2019|HICEEDX |2019-10-09|2016-06-06|True |\n",
      "|2016-06-17|28.24|model://ICENLFINREL/EU.EL.NL.ICE.FIN.OP.FUT.M10/SETTLE/ALL|ICE Dutch Power Financial Offpeak Futures - Dutch Grid - Month 10|range://DB:1/END/06-06-2016/10-09-2019|HICEEDX |2019-10-09|2016-06-06|True |\n",
      "|2016-06-20|29.29|model://ICENLFINREL/EU.EL.NL.ICE.FIN.OP.FUT.M10/SETTLE/ALL|ICE Dutch Power Financial Offpeak Futures - Dutch Grid - Month 10|range://DB:1/END/06-06-2016/10-09-2019|HICEEDX |2019-10-09|2016-06-06|True |\n",
      "|2016-06-21|29.13|model://ICENLFINREL/EU.EL.NL.ICE.FIN.OP.FUT.M10/SETTLE/ALL|ICE Dutch Power Financial Offpeak Futures - Dutch Grid - Month 10|range://DB:1/END/06-06-2016/10-09-2019|HICEEDX |2019-10-09|2016-06-06|True |\n",
      "|2016-06-22|29.32|model://ICENLFINREL/EU.EL.NL.ICE.FIN.OP.FUT.M10/SETTLE/ALL|ICE Dutch Power Financial Offpeak Futures - Dutch Grid - Month 10|range://DB:1/END/06-06-2016/10-09-2019|HICEEDX |2019-10-09|2016-06-06|True |\n",
      "|2016-06-23|29.69|model://ICENLFINREL/EU.EL.NL.ICE.FIN.OP.FUT.M10/SETTLE/ALL|ICE Dutch Power Financial Offpeak Futures - Dutch Grid - Month 10|range://DB:1/END/06-06-2016/10-09-2019|HICEEDX |2019-10-09|2016-06-06|True |\n",
      "|2016-06-24|29.71|model://ICENLFINREL/EU.EL.NL.ICE.FIN.OP.FUT.M10/SETTLE/ALL|ICE Dutch Power Financial Offpeak Futures - Dutch Grid - Month 10|range://DB:1/END/06-06-2016/10-09-2019|HICEEDX |2019-10-09|2016-06-06|True |\n",
      "|2016-06-27|28.46|model://ICENLFINREL/EU.EL.NL.ICE.FIN.OP.FUT.M10/SETTLE/ALL|ICE Dutch Power Financial Offpeak Futures - Dutch Grid - Month 10|range://DB:1/END/06-06-2016/10-09-2019|HICEEDX |2019-10-09|2016-06-06|True |\n",
      "|2016-06-28|28.47|model://ICENLFINREL/EU.EL.NL.ICE.FIN.OP.FUT.M10/SETTLE/ALL|ICE Dutch Power Financial Offpeak Futures - Dutch Grid - Month 10|range://DB:1/END/06-06-2016/10-09-2019|HICEEDX |2019-10-09|2016-06-06|True |\n",
      "|2016-06-29|28.35|model://ICENLFINREL/EU.EL.NL.ICE.FIN.OP.FUT.M10/SETTLE/ALL|ICE Dutch Power Financial Offpeak Futures - Dutch Grid - Month 10|range://DB:1/END/06-06-2016/10-09-2019|HICEEDX |2019-10-09|2016-06-06|True |\n",
      "|2016-06-30|26.91|model://ICENLFINREL/EU.EL.NL.ICE.FIN.OP.FUT.M10/SETTLE/ALL|ICE Dutch Power Financial Offpeak Futures - Dutch Grid - Month 10|range://DB:1/END/06-06-2016/10-09-2019|HICEEDX |2019-10-09|2016-06-06|True |\n",
      "|2016-07-01|27.23|model://ICENLFINREL/EU.EL.NL.ICE.FIN.OP.FUT.M10/SETTLE/ALL|ICE Dutch Power Financial Offpeak Futures - Dutch Grid - Month 10|range://DB:1/END/06-06-2016/10-09-2019|HICEEDX |2019-10-09|2016-06-06|True |\n",
      "+----------+-----+----------------------------------------------------------+-----------------------------------------------------------------+--------------------------------------+--------+----------+----------+-----+\n",
      "only showing top 20 rows\n",
      "\n"
     ]
    }
   ],
   "source": [
    "# Rounding up the values to 2 places of decimal\n",
    "\n",
    "df1 = sparkDF.withColumn('value', fn.round(sparkDF['value'], 2))\n",
    "sparkDF = df1\n",
    "sparkDF.show(20, False)"
   ]
  },
  {
   "cell_type": "code",
   "execution_count": 11,
   "metadata": {},
   "outputs": [
    {
     "name": "stdout",
     "output_type": "stream",
     "text": [
      "+----+-----+----------+----+-----+--------+--------+----------+-----+\n",
      "|Date|value|Model Code|Desc|range|quotecal|endrange|startrange|check|\n",
      "+----+-----+----------+----+-----+--------+--------+----------+-----+\n",
      "|   0|38443|         0|   0|    0|       0|       0|         0|    0|\n",
      "+----+-----+----------+----+-----+--------+--------+----------+-----+\n",
      "\n"
     ]
    }
   ],
   "source": [
    "# Count NULLs and NaNs in each column in the dataframe\n",
    "\n",
    "df2 = sparkDF.select([fn.count(fn.when(fn.isnan(i) |\n",
    "                                       fn.col(i).isNull(), i)).alias(i)\n",
    "                      for i in sparkDF.columns])\n",
    "df2.show()"
   ]
  },
  {
   "cell_type": "code",
   "execution_count": 36,
   "metadata": {},
   "outputs": [
    {
     "name": "stdout",
     "output_type": "stream",
     "text": [
      "+----------+-----+----------------------------------------------------------+-----------------------------------------------------------------+--------------------------------------+--------+----------+----------+-----+\n",
      "|Date      |value|Model Code                                                |Desc                                                             |range                                 |quotecal|endrange  |startrange|check|\n",
      "+----------+-----+----------------------------------------------------------+-----------------------------------------------------------------+--------------------------------------+--------+----------+----------+-----+\n",
      "|2016-06-06|27.1 |model://ICENLFINREL/EU.EL.NL.ICE.FIN.OP.FUT.M10/SETTLE/ALL|ICE Dutch Power Financial Offpeak Futures - Dutch Grid - Month 10|range://DB:1/END/06-06-2016/10-09-2019|HICEEDX |2019-10-09|2016-06-06|True |\n",
      "|2016-06-07|27.12|model://ICENLFINREL/EU.EL.NL.ICE.FIN.OP.FUT.M10/SETTLE/ALL|ICE Dutch Power Financial Offpeak Futures - Dutch Grid - Month 10|range://DB:1/END/06-06-2016/10-09-2019|HICEEDX |2019-10-09|2016-06-06|True |\n",
      "|2016-06-08|27.25|model://ICENLFINREL/EU.EL.NL.ICE.FIN.OP.FUT.M10/SETTLE/ALL|ICE Dutch Power Financial Offpeak Futures - Dutch Grid - Month 10|range://DB:1/END/06-06-2016/10-09-2019|HICEEDX |2019-10-09|2016-06-06|True |\n",
      "|2016-06-09|27.02|model://ICENLFINREL/EU.EL.NL.ICE.FIN.OP.FUT.M10/SETTLE/ALL|ICE Dutch Power Financial Offpeak Futures - Dutch Grid - Month 10|range://DB:1/END/06-06-2016/10-09-2019|HICEEDX |2019-10-09|2016-06-06|True |\n",
      "|2016-06-10|27.04|model://ICENLFINREL/EU.EL.NL.ICE.FIN.OP.FUT.M10/SETTLE/ALL|ICE Dutch Power Financial Offpeak Futures - Dutch Grid - Month 10|range://DB:1/END/06-06-2016/10-09-2019|HICEEDX |2019-10-09|2016-06-06|True |\n",
      "|2016-06-13|26.63|model://ICENLFINREL/EU.EL.NL.ICE.FIN.OP.FUT.M10/SETTLE/ALL|ICE Dutch Power Financial Offpeak Futures - Dutch Grid - Month 10|range://DB:1/END/06-06-2016/10-09-2019|HICEEDX |2019-10-09|2016-06-06|True |\n",
      "|2016-06-14|26.72|model://ICENLFINREL/EU.EL.NL.ICE.FIN.OP.FUT.M10/SETTLE/ALL|ICE Dutch Power Financial Offpeak Futures - Dutch Grid - Month 10|range://DB:1/END/06-06-2016/10-09-2019|HICEEDX |2019-10-09|2016-06-06|True |\n",
      "|2016-06-15|27.22|model://ICENLFINREL/EU.EL.NL.ICE.FIN.OP.FUT.M10/SETTLE/ALL|ICE Dutch Power Financial Offpeak Futures - Dutch Grid - Month 10|range://DB:1/END/06-06-2016/10-09-2019|HICEEDX |2019-10-09|2016-06-06|True |\n",
      "|2016-06-16|27.68|model://ICENLFINREL/EU.EL.NL.ICE.FIN.OP.FUT.M10/SETTLE/ALL|ICE Dutch Power Financial Offpeak Futures - Dutch Grid - Month 10|range://DB:1/END/06-06-2016/10-09-2019|HICEEDX |2019-10-09|2016-06-06|True |\n",
      "|2016-06-17|28.24|model://ICENLFINREL/EU.EL.NL.ICE.FIN.OP.FUT.M10/SETTLE/ALL|ICE Dutch Power Financial Offpeak Futures - Dutch Grid - Month 10|range://DB:1/END/06-06-2016/10-09-2019|HICEEDX |2019-10-09|2016-06-06|True |\n",
      "|2016-06-20|29.29|model://ICENLFINREL/EU.EL.NL.ICE.FIN.OP.FUT.M10/SETTLE/ALL|ICE Dutch Power Financial Offpeak Futures - Dutch Grid - Month 10|range://DB:1/END/06-06-2016/10-09-2019|HICEEDX |2019-10-09|2016-06-06|True |\n",
      "|2016-06-21|29.13|model://ICENLFINREL/EU.EL.NL.ICE.FIN.OP.FUT.M10/SETTLE/ALL|ICE Dutch Power Financial Offpeak Futures - Dutch Grid - Month 10|range://DB:1/END/06-06-2016/10-09-2019|HICEEDX |2019-10-09|2016-06-06|True |\n",
      "|2016-06-22|29.32|model://ICENLFINREL/EU.EL.NL.ICE.FIN.OP.FUT.M10/SETTLE/ALL|ICE Dutch Power Financial Offpeak Futures - Dutch Grid - Month 10|range://DB:1/END/06-06-2016/10-09-2019|HICEEDX |2019-10-09|2016-06-06|True |\n",
      "|2016-06-23|29.69|model://ICENLFINREL/EU.EL.NL.ICE.FIN.OP.FUT.M10/SETTLE/ALL|ICE Dutch Power Financial Offpeak Futures - Dutch Grid - Month 10|range://DB:1/END/06-06-2016/10-09-2019|HICEEDX |2019-10-09|2016-06-06|True |\n",
      "|2016-06-24|29.71|model://ICENLFINREL/EU.EL.NL.ICE.FIN.OP.FUT.M10/SETTLE/ALL|ICE Dutch Power Financial Offpeak Futures - Dutch Grid - Month 10|range://DB:1/END/06-06-2016/10-09-2019|HICEEDX |2019-10-09|2016-06-06|True |\n",
      "|2016-06-27|28.46|model://ICENLFINREL/EU.EL.NL.ICE.FIN.OP.FUT.M10/SETTLE/ALL|ICE Dutch Power Financial Offpeak Futures - Dutch Grid - Month 10|range://DB:1/END/06-06-2016/10-09-2019|HICEEDX |2019-10-09|2016-06-06|True |\n",
      "|2016-06-28|28.47|model://ICENLFINREL/EU.EL.NL.ICE.FIN.OP.FUT.M10/SETTLE/ALL|ICE Dutch Power Financial Offpeak Futures - Dutch Grid - Month 10|range://DB:1/END/06-06-2016/10-09-2019|HICEEDX |2019-10-09|2016-06-06|True |\n",
      "|2016-06-29|28.35|model://ICENLFINREL/EU.EL.NL.ICE.FIN.OP.FUT.M10/SETTLE/ALL|ICE Dutch Power Financial Offpeak Futures - Dutch Grid - Month 10|range://DB:1/END/06-06-2016/10-09-2019|HICEEDX |2019-10-09|2016-06-06|True |\n",
      "|2016-06-30|26.91|model://ICENLFINREL/EU.EL.NL.ICE.FIN.OP.FUT.M10/SETTLE/ALL|ICE Dutch Power Financial Offpeak Futures - Dutch Grid - Month 10|range://DB:1/END/06-06-2016/10-09-2019|HICEEDX |2019-10-09|2016-06-06|True |\n",
      "|2016-07-01|27.23|model://ICENLFINREL/EU.EL.NL.ICE.FIN.OP.FUT.M10/SETTLE/ALL|ICE Dutch Power Financial Offpeak Futures - Dutch Grid - Month 10|range://DB:1/END/06-06-2016/10-09-2019|HICEEDX |2019-10-09|2016-06-06|True |\n",
      "+----------+-----+----------------------------------------------------------+-----------------------------------------------------------------+--------------------------------------+--------+----------+----------+-----+\n",
      "only showing top 20 rows\n",
      "\n",
      "Total rowcount after removing Nulls:  2580185\n"
     ]
    }
   ],
   "source": [
    "# Now I will drop all the rows that contains Null in value column\n",
    "\n",
    "sparkDF.dropna(subset=['value'])\n",
    "sparkDF.show(20, False)\n",
    "print('Total rowcount after removing Nulls: ', sparkDF.count())"
   ]
  },
  {
   "cell_type": "code",
   "execution_count": 89,
   "metadata": {
    "scrolled": true
   },
   "outputs": [
    {
     "name": "stdout",
     "output_type": "stream",
     "text": [
      "+----------+------------------+----------------------------------------------------------+-----------------------------------------------------------------+--------------------------------------+--------+----------+----------+-----+---------------+\n",
      "|Date      |value             |Model Code                                                |Desc                                                             |range                                 |quotecal|endrange  |startrange|check|Absolute_Period|\n",
      "+----------+------------------+----------------------------------------------------------+-----------------------------------------------------------------+--------------------------------------+--------+----------+----------+-----+---------------+\n",
      "|2016-06-06|27.09951219512195 |model://ICENLFINREL/EU.EL.NL.ICE.FIN.OP.FUT.M10/SETTLE/ALL|ICE Dutch Power Financial Offpeak Futures - Dutch Grid - Month 10|range://DB:1/END/06-06-2016/10-09-2019|HICEEDX |2019-10-09|2016-06-06|True |2016M06        |\n",
      "|2016-06-07|27.120975609756094|model://ICENLFINREL/EU.EL.NL.ICE.FIN.OP.FUT.M10/SETTLE/ALL|ICE Dutch Power Financial Offpeak Futures - Dutch Grid - Month 10|range://DB:1/END/06-06-2016/10-09-2019|HICEEDX |2019-10-09|2016-06-06|True |2016M06        |\n",
      "|2016-06-08|27.25317073170732 |model://ICENLFINREL/EU.EL.NL.ICE.FIN.OP.FUT.M10/SETTLE/ALL|ICE Dutch Power Financial Offpeak Futures - Dutch Grid - Month 10|range://DB:1/END/06-06-2016/10-09-2019|HICEEDX |2019-10-09|2016-06-06|True |2016M06        |\n",
      "|2016-06-09|27.020487804878048|model://ICENLFINREL/EU.EL.NL.ICE.FIN.OP.FUT.M10/SETTLE/ALL|ICE Dutch Power Financial Offpeak Futures - Dutch Grid - Month 10|range://DB:1/END/06-06-2016/10-09-2019|HICEEDX |2019-10-09|2016-06-06|True |2016M06        |\n",
      "|2016-06-10|27.035853658536592|model://ICENLFINREL/EU.EL.NL.ICE.FIN.OP.FUT.M10/SETTLE/ALL|ICE Dutch Power Financial Offpeak Futures - Dutch Grid - Month 10|range://DB:1/END/06-06-2016/10-09-2019|HICEEDX |2019-10-09|2016-06-06|True |2016M06        |\n",
      "|2016-06-13|26.62878048780488 |model://ICENLFINREL/EU.EL.NL.ICE.FIN.OP.FUT.M10/SETTLE/ALL|ICE Dutch Power Financial Offpeak Futures - Dutch Grid - Month 10|range://DB:1/END/06-06-2016/10-09-2019|HICEEDX |2019-10-09|2016-06-06|True |2016M06        |\n",
      "|2016-06-14|26.723170731707317|model://ICENLFINREL/EU.EL.NL.ICE.FIN.OP.FUT.M10/SETTLE/ALL|ICE Dutch Power Financial Offpeak Futures - Dutch Grid - Month 10|range://DB:1/END/06-06-2016/10-09-2019|HICEEDX |2019-10-09|2016-06-06|True |2016M06        |\n",
      "|2016-06-15|27.21878048780488 |model://ICENLFINREL/EU.EL.NL.ICE.FIN.OP.FUT.M10/SETTLE/ALL|ICE Dutch Power Financial Offpeak Futures - Dutch Grid - Month 10|range://DB:1/END/06-06-2016/10-09-2019|HICEEDX |2019-10-09|2016-06-06|True |2016M06        |\n",
      "|2016-06-16|27.675853658536585|model://ICENLFINREL/EU.EL.NL.ICE.FIN.OP.FUT.M10/SETTLE/ALL|ICE Dutch Power Financial Offpeak Futures - Dutch Grid - Month 10|range://DB:1/END/06-06-2016/10-09-2019|HICEEDX |2019-10-09|2016-06-06|True |2016M06        |\n",
      "|2016-06-17|28.240975609756088|model://ICENLFINREL/EU.EL.NL.ICE.FIN.OP.FUT.M10/SETTLE/ALL|ICE Dutch Power Financial Offpeak Futures - Dutch Grid - Month 10|range://DB:1/END/06-06-2016/10-09-2019|HICEEDX |2019-10-09|2016-06-06|True |2016M06        |\n",
      "|2016-06-20|29.290975609756106|model://ICENLFINREL/EU.EL.NL.ICE.FIN.OP.FUT.M10/SETTLE/ALL|ICE Dutch Power Financial Offpeak Futures - Dutch Grid - Month 10|range://DB:1/END/06-06-2016/10-09-2019|HICEEDX |2019-10-09|2016-06-06|True |2016M06        |\n",
      "|2016-06-21|29.133902439024386|model://ICENLFINREL/EU.EL.NL.ICE.FIN.OP.FUT.M10/SETTLE/ALL|ICE Dutch Power Financial Offpeak Futures - Dutch Grid - Month 10|range://DB:1/END/06-06-2016/10-09-2019|HICEEDX |2019-10-09|2016-06-06|True |2016M06        |\n",
      "|2016-06-22|29.3219512195122  |model://ICENLFINREL/EU.EL.NL.ICE.FIN.OP.FUT.M10/SETTLE/ALL|ICE Dutch Power Financial Offpeak Futures - Dutch Grid - Month 10|range://DB:1/END/06-06-2016/10-09-2019|HICEEDX |2019-10-09|2016-06-06|True |2016M06        |\n",
      "|2016-06-23|29.69121951219513 |model://ICENLFINREL/EU.EL.NL.ICE.FIN.OP.FUT.M10/SETTLE/ALL|ICE Dutch Power Financial Offpeak Futures - Dutch Grid - Month 10|range://DB:1/END/06-06-2016/10-09-2019|HICEEDX |2019-10-09|2016-06-06|True |2016M06        |\n",
      "|2016-06-24|29.712926829268287|model://ICENLFINREL/EU.EL.NL.ICE.FIN.OP.FUT.M10/SETTLE/ALL|ICE Dutch Power Financial Offpeak Futures - Dutch Grid - Month 10|range://DB:1/END/06-06-2016/10-09-2019|HICEEDX |2019-10-09|2016-06-06|True |2016M06        |\n",
      "|2016-06-27|28.464634146341467|model://ICENLFINREL/EU.EL.NL.ICE.FIN.OP.FUT.M10/SETTLE/ALL|ICE Dutch Power Financial Offpeak Futures - Dutch Grid - Month 10|range://DB:1/END/06-06-2016/10-09-2019|HICEEDX |2019-10-09|2016-06-06|True |2016M06        |\n",
      "|2016-06-28|28.47365853658537 |model://ICENLFINREL/EU.EL.NL.ICE.FIN.OP.FUT.M10/SETTLE/ALL|ICE Dutch Power Financial Offpeak Futures - Dutch Grid - Month 10|range://DB:1/END/06-06-2016/10-09-2019|HICEEDX |2019-10-09|2016-06-06|True |2016M06        |\n",
      "|2016-06-29|28.35439024390244 |model://ICENLFINREL/EU.EL.NL.ICE.FIN.OP.FUT.M10/SETTLE/ALL|ICE Dutch Power Financial Offpeak Futures - Dutch Grid - Month 10|range://DB:1/END/06-06-2016/10-09-2019|HICEEDX |2019-10-09|2016-06-06|True |2016M06        |\n",
      "|2016-06-30|26.90820512820513 |model://ICENLFINREL/EU.EL.NL.ICE.FIN.OP.FUT.M10/SETTLE/ALL|ICE Dutch Power Financial Offpeak Futures - Dutch Grid - Month 10|range://DB:1/END/06-06-2016/10-09-2019|HICEEDX |2019-10-09|2016-06-06|True |2016M06        |\n",
      "|2016-07-01|27.23             |model://ICENLFINREL/EU.EL.NL.ICE.FIN.OP.FUT.M10/SETTLE/ALL|ICE Dutch Power Financial Offpeak Futures - Dutch Grid - Month 10|range://DB:1/END/06-06-2016/10-09-2019|HICEEDX |2019-10-09|2016-06-06|True |2016M07        |\n",
      "+----------+------------------+----------------------------------------------------------+-----------------------------------------------------------------+--------------------------------------+--------+----------+----------+-----+---------------+\n",
      "only showing top 20 rows\n",
      "\n"
     ]
    }
   ],
   "source": [
    "# Now creating new column called Absolute_Period in sparkDF\n",
    "\n",
    "condition1 = fn.col('Desc').like('%Month%')\n",
    "condition2 = fn.col('Desc').like('%Quarter%')\n",
    "\n",
    "sparkDF = sparkDF.withColumn('Absolute_Period',\n",
    "                             fn.concat(fn.year('Date'),\n",
    "                                       fn.when(condition1, 'M')\n",
    "                                       .when(condition2, 'Q')\n",
    "                                       .otherwise('Y'),\n",
    "                                       fn.when(condition1, fn.format_string('%02d', fn.month('Date')))\n",
    "                                       .when(condition2, fn.format_string('%02d', fn.quarter('Date')))\n",
    "                                       .otherwise('')))\n",
    "sparkDF.show(20, False)"
   ]
  },
  {
   "cell_type": "code",
   "execution_count": null,
   "metadata": {},
   "outputs": [],
   "source": []
  }
 ],
 "metadata": {
  "kernelspec": {
   "display_name": "mflix",
   "language": "python",
   "name": "mflix"
  },
  "language_info": {
   "codemirror_mode": {
    "name": "ipython",
    "version": 3
   },
   "file_extension": ".py",
   "mimetype": "text/x-python",
   "name": "python",
   "nbconvert_exporter": "python",
   "pygments_lexer": "ipython3",
   "version": "3.8.0"
  }
 },
 "nbformat": 4,
 "nbformat_minor": 2
}
