{
 "cells": [
  {
   "cell_type": "code",
   "execution_count": null,
   "metadata": {},
   "outputs": [],
   "source": [
    "import tweepy\n",
    "# from time import sleep\n",
    "import csv"
   ]
  },
  {
   "cell_type": "code",
   "execution_count": null,
   "metadata": {},
   "outputs": [],
   "source": [
    "# Twitter API setup from Twitter Developer Portal. App name- data_source1\n",
    "\n",
    "consumer_api_key = 'hMFTnumHTmgKKsumXHnSfQA6L'\n",
    "consumer_secret = 'sg6pKoBHrX65wyKaXQcc****7vJzzcv6CAdTb6kNeBy'\n",
    "access_token = '2255488675-G1OrKxps5trlXFnBcpUH0xSVtUrMp0hWfXWZnb1'\n",
    "access_token_secret = '7jiqB7XqreMLAJCciuyEvHH****wQUJhRfOv8QmqThZZ'"
   ]
  },
  {
   "cell_type": "code",
   "execution_count": null,
   "metadata": {},
   "outputs": [],
   "source": [
    "# Creating authentication object\n",
    "\n",
    "auth = tweepy.OAuthHandler(consumer_api_key, consumer_secret)\n",
    "print('✎ Authenticating...')"
   ]
  },
  {
   "cell_type": "code",
   "execution_count": null,
   "metadata": {},
   "outputs": [],
   "source": [
    "# Setting up access token and secret key\n",
    "\n",
    "auth.set_access_token(access_token, access_token_secret)\n",
    "print('✎ Setting up access...')"
   ]
  },
  {
   "cell_type": "code",
   "execution_count": null,
   "metadata": {},
   "outputs": [],
   "source": [
    "# Creating the API object\n",
    "\n",
    "api = tweepy.API(auth)"
   ]
  },
  {
   "cell_type": "code",
   "execution_count": null,
   "metadata": {},
   "outputs": [],
   "source": [
    "# Creating a csv file to which extracted data will be written\n",
    "\n",
    "csvFile = open('Twitter_data_extracted.csv', 'w')\n",
    "csvWriter = csv.writer(csvFile, delimiter=',')\n",
    "header1 = ['ID', 'CREATED_AT', 'LOCATION', 'FOLLOWERS_COUNT', 'SCREEN_NAME', 'TWEET']\n",
    "print('...created a new csv file ✔')"
   ]
  },
  {
   "cell_type": "code",
   "execution_count": null,
   "metadata": {},
   "outputs": [],
   "source": [
    "# Function to get twitter data\n",
    "\n",
    "def fetch_twitter_data():\n",
    "    query = '#Chhattisgarh AND #Covid-19'    # Enter the keywords to search for\n",
    "    language = 'en'\n",
    "    count = 20\n",
    "    result = api.search(q=query, lang=language, count=count)\n",
    "    csvWriter.writerow(header1)\n",
    "    for words in result:\n",
    "        csvWriter.writerow([words.id_str, words.created_at, words.user.location.encode('utf-8'),\n",
    "                            words.user.followers_count, words.user.screen_name.encode('utf-8'),\n",
    "                            words.text.encode('utf-8')])"
   ]
  },
  {
   "cell_type": "code",
   "execution_count": null,
   "metadata": {},
   "outputs": [],
   "source": [
    "# Calling our function\n",
    "\n",
    "fetch_twitter_data()\n",
    "\n",
    "print('Success!✅ ✦A new csv file has been created ✔')"
   ]
  }
 ],
 "metadata": {
  "kernelspec": {
   "display_name": "mflix",
   "language": "python",
   "name": "mflix"
  },
  "language_info": {
   "codemirror_mode": {
    "name": "ipython",
    "version": 3
   },
   "file_extension": ".py",
   "mimetype": "text/x-python",
   "name": "python",
   "nbconvert_exporter": "python",
   "pygments_lexer": "ipython3",
   "version": "3.8.0"
  }
 },
 "nbformat": 4,
 "nbformat_minor": 2
}
